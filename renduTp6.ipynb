{
 "cells": [
  {
   "cell_type": "code",
   "execution_count": 63,
   "metadata": {},
   "outputs": [
    {
     "name": "stdout",
     "output_type": "stream",
     "text": [
      "7588.491075000002\n",
      "-0.16971175504296912\n"
     ]
    }
   ],
   "source": [
    "#Exerice 1\n",
    "\n",
    "import numpy as np\n",
    "import math\n",
    "\n",
    "#Question 1\n",
    "def integrale(f,a,b,n):\n",
    "    somme=0\n",
    "    i=a\n",
    "    largeur=(b-a)/n\n",
    "    for i in range(1,n):\n",
    "        somme+=f(a+i*largeur)\n",
    "    return largeur*somme\n",
    "\n",
    "\n",
    "def integraleG(f,a,b,n):\n",
    "    somme=0\n",
    "    i=a\n",
    "    largeur=(b-a)/n\n",
    "    for i in range(1,n):\n",
    "        if (a+i*largeur) != 0: #Cas ou on divise par 0\n",
    "            somme+=f(a+i*largeur)\n",
    "    return largeur*somme\n",
    "#Question 2\n",
    "def pres(f,a,b,precision):\n",
    "    valNonAprocher=7590\n",
    "    n0=1\n",
    "    val = integrale(f, a, b, n0)\n",
    "    while valNonAprocher - val / valNonAprocher > precision:\n",
    "        n0 += 1\n",
    "        val = integrale(f, a, b, n0)\n",
    "    return n0\n",
    "\n",
    "#La function pres ne fonctionne pas mais je ne comprend pas mon erreur\n",
    "#print(pres(f,0,10,1e-3))\n",
    "\n",
    "#Question 3\n",
    "f = lambda x : 3*x**3 + 2*x - 1\n",
    "print(integrale(f,0,10,10000))\n",
    "\n",
    "#4\n",
    "import math\n",
    "g = lambda x : math.cos(1/x)\n",
    "print(integraleG(g,-1,1,10000))"
   ]
  },
  {
   "cell_type": "code",
   "execution_count": null,
   "metadata": {},
   "outputs": [],
   "source": [
    "#Exercice 2\n",
    "\n",
    "import numpy as np\n",
    "import math\n",
    "\n",
    "def methodeTrapezes(f, a, b, N):\n",
    "     pas = (b-a) / N\n",
    "     x = a\n",
    "     somme = (f(a) + f(b)) / 2\n",
    "    \n",
    "     for _ in range(N-1):\n",
    "        x += pas\n",
    "        somme += f(x)\n",
    "     return somme / N\n",
    "    \n",
    "methodeTrapezes(lambda x: x**2, 0, 1, 100)"
   ]
  }
 ],
 "metadata": {
  "kernelspec": {
   "display_name": "Python 3",
   "language": "python",
   "name": "python3"
  },
  "language_info": {
   "codemirror_mode": {
    "name": "ipython",
    "version": 3
   },
   "file_extension": ".py",
   "mimetype": "text/x-python",
   "name": "python",
   "nbconvert_exporter": "python",
   "pygments_lexer": "ipython3",
   "version": "3.8.3"
  }
 },
 "nbformat": 4,
 "nbformat_minor": 4
}
